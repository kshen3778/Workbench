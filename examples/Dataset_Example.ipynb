{
 "cells": [
  {
   "cell_type": "code",
   "execution_count": 9,
   "id": "102bf664",
   "metadata": {},
   "outputs": [],
   "source": [
    "from worktable.modules import NIFTIDataset\n",
    "from worktable.utils import *\n",
    "from torchvision import transforms\n",
    "from torch.utils.data import DataLoader"
   ]
  },
  {
   "cell_type": "markdown",
   "id": "66276862",
   "metadata": {},
   "source": [
    "## NIFTIDataset Basic Example"
   ]
  },
  {
   "cell_type": "markdown",
   "id": "a7898520",
   "metadata": {},
   "source": [
    "### Create a NIFTIDataset\n",
    "Specify the base_dir folder where all the data is stored. The individual paths to images and labels should be passed in as lists or alternatively specified in a CSV file located inside base_dir."
   ]
  },
  {
   "cell_type": "code",
   "execution_count": 2,
   "id": "73bebf12",
   "metadata": {
    "scrolled": true
   },
   "outputs": [],
   "source": [
    "dataset = NIFTIDataset(base_dir=\"/home/kshen3778/Desktop/Projects/workbench_notebooks/data/Lung_GTV_small\",\n",
    "                       images=\"images\", # name of images column in data.csv\n",
    "                       labels=\"labels\", # name of labels column in data.csv\n",
    "                       file_name_or_dataframe=\"/home/kshen3778/Desktop/Projects/workbench_notebooks/data/Lung_GTV_small/data.csv\"\n",
    "                       )"
   ]
  },
  {
   "cell_type": "markdown",
   "id": "369da47c",
   "metadata": {},
   "source": [
    "### Calculate dataset statistics"
   ]
  },
  {
   "cell_type": "code",
   "execution_count": 3,
   "id": "a39583f3",
   "metadata": {},
   "outputs": [
    {
     "name": "stdout",
     "output_type": "stream",
     "text": [
      "{'base_dir': '/home/kshen3778/Desktop/Projects/workbench_notebooks/data/Lung_GTV_small', 'images': ['./1/data.nii.gz', './2/data.nii.gz', './3/data.nii.gz'], 'labels': ['./1/label.nii.gz', './2/label.nii.gz', './3/label.nii.gz'], 'get_item_as_dict': False, 'get_item_keys': {'image_key': None, 'label_key': None}, 'file_path': 'data.csv', 'statistics': {'foreground_threshold': 0, 'sampling_interval': 1, 'image_statistics': [{'image': './1/data.nii.gz', 'label': './1/label.nii.gz', 'image_shape': [512, 512, 96], 'label_shape': [512, 512, 96], 'max': 3071.0, 'min': -1024.0, 'mean': -247.43211920529802, 'std': 222.7260820915533, 'percentile': [10, 50, 90], 'percentile_values': [-567.1, -230.0, 14.0], 'median': -230.0}, {'image': './2/data.nii.gz', 'label': './2/label.nii.gz', 'image_shape': [512, 512, 80], 'label_shape': [512, 512, 80], 'max': 1453.0, 'min': -1024.0, 'mean': -68.48429188829788, 'std': 173.99407963090667, 'percentile': [10, 50, 90], 'percentile_values': [-333.89999999999986, 19.0, 44.0], 'median': 19.0}, {'image': './3/data.nii.gz', 'label': './3/label.nii.gz', 'image_shape': [512, 512, 87], 'label_shape': [512, 512, 87], 'max': 3071.0, 'min': -1024.0, 'mean': -241.87100737100738, 'std': 186.21833192434477, 'percentile': [10, 50, 90], 'percentile_values': [-512.8, -220.0, -2.2999999999999545], 'median': -220.0}], 'max': 3071.0, 'min': -1024.0, 'mean': -87.01375464684016, 'std': 185.26394362393407, 'percentile': [10, 50, 90], 'percentile_values': [-383.0, 10.0, 43.0], 'median': 10.0}, 'transforms': {'train': [], 'inference': [CenterCrop(size=(10, 10)), ToTensor()]}}\n"
     ]
    }
   ],
   "source": [
    "dataset.calculate_statistics(percentiles=[10, 50, 90])\n",
    "transformations = [transforms.CenterCrop(10), transforms.ToTensor()]\n",
    "dataset.attach_transformations(transformations, train=False)\n",
    "print(dataset.get_profile()) # print the profile to see our dataset information"
   ]
  },
  {
   "cell_type": "markdown",
   "id": "bc38493d",
   "metadata": {},
   "source": [
    "### Save dataset as a Worktable dataset"
   ]
  },
  {
   "cell_type": "code",
   "execution_count": 4,
   "id": "f5bd09b1",
   "metadata": {},
   "outputs": [
    {
     "name": "stdout",
     "output_type": "stream",
     "text": [
      "Profile saved at:  /home/kshen3778/Desktop/Projects/workbench_notebooks/data/Lung_GTV_small/.worktable\n"
     ]
    }
   ],
   "source": [
    "dataset.save(name=\"first_dataset\")"
   ]
  },
  {
   "cell_type": "markdown",
   "id": "3ed69f6c",
   "metadata": {},
   "source": [
    "### Create a new copy/version of the dataset on disk\n",
    "The new dataset will have all the data properties, transformations, and settings of the original. You can give it a new name."
   ]
  },
  {
   "cell_type": "code",
   "execution_count": 5,
   "id": "f9a2fc5e",
   "metadata": {},
   "outputs": [
    {
     "name": "stdout",
     "output_type": "stream",
     "text": [
      "Profile saved at:  /home/kshen3778/Desktop/Projects/workbench_notebooks/data/Lung_GTV_small_2/.worktable\n",
      "New dataset version has been created at:  /home/kshen3778/Desktop/Projects/workbench_notebooks/data/Lung_GTV_small_2\n"
     ]
    }
   ],
   "source": [
    "dataset.create_new_version(new_base_dir=\"/home/kshen3778/Desktop/Projects/workbench_notebooks/data/Lung_GTV_small_2\",\n",
    "                          name=\"second_dataset\")"
   ]
  },
  {
   "cell_type": "markdown",
   "id": "e8090286",
   "metadata": {},
   "source": [
    "### Load the new version and apply preprocessing to it, and save it"
   ]
  },
  {
   "cell_type": "code",
   "execution_count": 7,
   "id": "87105f5f",
   "metadata": {},
   "outputs": [
    {
     "name": "stdout",
     "output_type": "stream",
     "text": [
      "Preprocessing complete.\n",
      "Profile saved at:  /home/kshen3778/Desktop/Projects/workbench_notebooks/data/Lung_GTV_small_2/.worktable\n"
     ]
    }
   ],
   "source": [
    "# Note: loaded file path must be directly to a .worktable directory or a directory that contains a .worktable directory\n",
    "dataset_new = NIFTIDataset()\n",
    "dataset_new.load(\"/home/kshen3778/Desktop/Projects/workbench_notebooks/data/Lung_GTV_small_2\")\n",
    "preprocessing = [HistogramClipping(percent=True), CenterCrop3D(512, 512, 10)]\n",
    "dataset_new.apply_changes(preprocessing=preprocessing)\n",
    "dataset_new.save(name=\"second_dataset\") # save the changes we applied and keep the same name when created"
   ]
  },
  {
   "cell_type": "markdown",
   "id": "e0af463c",
   "metadata": {},
   "source": [
    "### Create a Pytorch dataloader from a Worktable dataset"
   ]
  },
  {
   "cell_type": "code",
   "execution_count": 11,
   "id": "cdb055cd",
   "metadata": {},
   "outputs": [],
   "source": [
    "loader = DataLoader(dataset_new, batch_size=1)"
   ]
  },
  {
   "cell_type": "code",
   "execution_count": null,
   "id": "dc8dea4d",
   "metadata": {},
   "outputs": [],
   "source": []
  }
 ],
 "metadata": {
  "kernelspec": {
   "display_name": "Python 3 (ipykernel)",
   "language": "python",
   "name": "python3"
  },
  "language_info": {
   "codemirror_mode": {
    "name": "ipython",
    "version": 3
   },
   "file_extension": ".py",
   "mimetype": "text/x-python",
   "name": "python",
   "nbconvert_exporter": "python",
   "pygments_lexer": "ipython3",
   "version": "3.8.11"
  }
 },
 "nbformat": 4,
 "nbformat_minor": 5
}
